{
 "cells": [
  {
   "cell_type": "code",
   "execution_count": null,
   "metadata": {},
   "outputs": [],
   "source": [
    "import pandas as pd\n",
    "import openai\n",
    "import time\n",
    "import re"
   ]
  },
  {
   "cell_type": "code",
   "execution_count": null,
   "metadata": {},
   "outputs": [],
   "source": [
    "df = pd.read_excel(\"Antares Eazy Data .xlsx\")\n",
    "# df = pd.read_csv(\"real data lengkap.csv\")\n",
    "df"
   ]
  },
  {
   "cell_type": "code",
   "execution_count": null,
   "metadata": {},
   "outputs": [],
   "source": [
    "# df = df.iloc[5001:9194].reset_index(drop=True)\n",
    "# df"
   ]
  },
  {
   "cell_type": "code",
   "execution_count": null,
   "metadata": {},
   "outputs": [],
   "source": [
    "from openai import AzureOpenAI\n",
    "\n",
    "client = AzureOpenAI(\n",
    "    api_key='[api_key]',\n",
    "    api_version=\"2024-02-01\",\n",
    "    azure_endpoint = \"https://openaifmseus.openai.azure.com/\")\n",
    "\n",
    "# deployment_name='gpt-35-turbo'\n",
    "deployment_name='gpt-4o'"
   ]
  },
  {
   "cell_type": "code",
   "execution_count": null,
   "metadata": {},
   "outputs": [],
   "source": [
    "def clean_output(pertanyaan, jawaban):\n",
    "    # Hapus strip dari pertanyaan\n",
    "    pertanyaan = pertanyaan.replace(\"-\", \"\").strip()\n",
    "    \n",
    "    # Pisahkan jawaban menjadi paragraf-paragraf\n",
    "    jawaban_paragraf = jawaban.split(\"\\n\")\n",
    "    \n",
    "    # Ambil hanya paragraf pertama\n",
    "    jawaban_cleaned = []\n",
    "    for line in jawaban_paragraf:\n",
    "        if line.strip() == \"\":\n",
    "            break\n",
    "        jawaban_cleaned.append(line.strip())\n",
    "    \n",
    "    jawaban_cleaned = \" \".join(jawaban_cleaned)\n",
    "    \n",
    "    return pertanyaan, jawaban_cleaned\n",
    "\n",
    "def extract_customer_agent(text):\n",
    "    prompt = f\"\"\"\n",
    "    Anda adalah ahli bahasa yang mengevaluasi percakapan layanan pelanggan. \n",
    "    Analisis percakapan dan ekstrak pertanyaan dan jawaban dari percakapan berikut '{text}' yang:\n",
    "    1. Pertanyaan berkaitan dengan produk, fitur, kebijakan, informasi layanan, atau sistem secara umum\n",
    "    2. Pertanyaan bisa dijawab oleh AI/chatbot tanpa perlu informasi spesifik pelanggan\n",
    "    3. Pertanyaan tidak memerlukan data real-time, status pesanan, tiket, atau akses ke sistem internal\n",
    "    4. Jawaban yang diberikan agent sesuai untuk pertanyaan tersebut\n",
    "    5. Pertanyaan berkaitan dengan cara melakukan sesuatu atau prosedur\n",
    "    7. Pertanyaan tidak memerlukan jawaban/tindakan manual oleh agen/manusia\n",
    "    8. Jawaban tidak membutuhkan data pribadi customer\n",
    "    9. Jawaban tidak meminta customer mununggu untuk info/proses lebih lanjut\n",
    "    10. Pertanyaan dan jawabannya tidak mengandung perihal nomor tiket (DOA) atau invoice (INV)\n",
    "    \n",
    "    Berikan hasil dalam format berikut:\n",
    "    - **Pertanyaan**: [Tuliskan pertanyaan dari customer yang sudah dirapikan dalam bentuk kalimat tanya yang jelas]\n",
    "    - **Jawaban**: [Tuliskan jawaban dari agen yang sudah dirapikan menjadi kalimat yang SINGKAT, padat, jelas, dan mudah dipahami tanpa menyebut nama customer]\n",
    "\n",
    "    Jika percakapan tidak berisi pertanyaan atau jawaban yang jelas, berikan \"No data\".\n",
    "    Jika terdapat nama orang pada jawaban, hapus nama dan ganti/sesuaikan dengan kalimatnya saja.\n",
    "    Jika pertanyaan adalah tata cara berikan secara step by step tetapi tetap singkat dan jelas.\n",
    "\n",
    "    \"\"\"\n",
    "    try:\n",
    "        chat_log = [{'role': 'user', 'content': prompt}]\n",
    "        response = client.chat.completions.create(model=deployment_name, messages=chat_log)\n",
    "        output = response.choices[0].message.content.strip()\n",
    "        print(f\"Output: {output}\")\n",
    "\n",
    "        pertanyaan, jawaban = \"No data\", \"No data\"\n",
    "        if \"**Pertanyaan**:\" in output and \"**Jawaban**:\" in output:\n",
    "            parts = output.split(\"**Jawaban**:\")\n",
    "            pertanyaan = parts[0].replace(\"**Pertanyaan**:\", \"\").strip()\n",
    "            jawaban = parts[1].strip() if len(parts) > 1 else \"No data\"\n",
    "        \n",
    "        # Cleaning the output\n",
    "        pertanyaan, jawaban = clean_output(pertanyaan, jawaban)\n",
    "\n",
    "        return pertanyaan, jawaban\n",
    "    except Exception as e:\n",
    "        print(f\"Error: {e}\")\n",
    "        return \"Error\", \"Error\"\n",
    "\n",
    "def analyze_conversations(df, batch_size=500, sleep_time=60):\n",
    "    total_rows = len(df)\n",
    "    \n",
    "    # Menambahkan kolom baru untuk hasil ekstraksi\n",
    "    if 'Pertanyaan' not in df.columns:\n",
    "        df['Pertanyaan'] = \"\"\n",
    "    if 'Jawaban' not in df.columns:\n",
    "        df['Jawaban'] = \"\"\n",
    "\n",
    "    for i in range(total_rows):\n",
    "        try:\n",
    "            text = df.iloc[i]['Conversation']\n",
    "            \n",
    "            if pd.isna(text) or text.strip() == \"\":\n",
    "                df.loc[i, 'Pertanyaan'] = \"No data\"\n",
    "                df.loc[i, 'Jawaban'] = \"No data\"\n",
    "                continue\n",
    "            \n",
    "            # Ekstraksi pertanyaan customer dan jawaban agen\n",
    "            pertanyaan, jawaban = extract_customer_agent(text)\n",
    "            df.loc[i, 'Pertanyaan'] = pertanyaan\n",
    "            df.loc[i, 'Jawaban'] = jawaban\n",
    "            \n",
    "        except Exception as e:\n",
    "            print(f\"[{i}]> Error: {e}\")\n",
    "            df.loc[i, 'Pertanyaan'] = \"Error\"\n",
    "            df.loc[i, 'Jawaban'] = \"Error\"\n",
    "        \n",
    "        # Batch processing untuk menghindari batasan API\n",
    "        if (i + 1) % batch_size == 0:\n",
    "            print(f\"Processed {i + 1}/{total_rows} rows. Sleeping for {sleep_time} seconds...\")\n",
    "            time.sleep(sleep_time)\n",
    "    \n",
    "    return df\n"
   ]
  },
  {
   "cell_type": "code",
   "execution_count": null,
   "metadata": {},
   "outputs": [],
   "source": [
    "%%time\n",
    "analyze_conversations(df)\n",
    "df"
   ]
  },
  {
   "cell_type": "code",
   "execution_count": null,
   "metadata": {},
   "outputs": [],
   "source": [
    "df.to_csv(\"test_qna_myindibiz.csv\", index=False) "
   ]
  },
  {
   "cell_type": "code",
   "execution_count": null,
   "metadata": {},
   "outputs": [],
   "source": [
    "def clean_output(pertanyaan, jawaban):\n",
    "    pertanyaan = pertanyaan.replace(\"-\", \"\").strip()\n",
    "    jawaban_paragraf = jawaban.split(\"\\n\")\n",
    "    jawaban_cleaned = []\n",
    "    for line in jawaban_paragraf:\n",
    "        if line.strip() == \"\":\n",
    "            break\n",
    "        jawaban_cleaned.append(line.strip())\n",
    "    jawaban_cleaned = \" \".join(jawaban_cleaned)\n",
    "    return pertanyaan, jawaban_cleaned\n",
    "\n",
    "def extract_customer_agent(text):\n",
    "    prompt = f\"\"\"\n",
    "    Anda adalah ahli bahasa yang mengevaluasi percakapan layanan pelanggan. \n",
    "    Analisis percakapan dan ekstrak pertanyaan dan jawaban dari percakapan berikut '{text}' yang:\n",
    "    1. Pertanyaan berkaitan dengan produk, fitur, kebijakan, informasi layanan, atau sistem secara umum\n",
    "    2. Pertanyaan bisa dijawab oleh AI/chatbot tanpa perlu informasi spesifik pelanggan\n",
    "    3. Pertanyaan tidak memerlukan data real-time, status pesanan, tiket, atau akses ke sistem internal\n",
    "    4. Jawaban yang diberikan agent sesuai untuk pertanyaan tersebut\n",
    "    5. Pertanyaan berkaitan dengan cara melakukan sesuatu atau prosedur\n",
    "    7. Pertanyaan tidak memerlukan jawaban/tindakan manual oleh agen/manusia\n",
    "    8. Jawaban tidak membutuhkan data pribadi customer\n",
    "    9. Jawaban tidak meminta customer mununggu untuk info/proses lebih lanjut\n",
    "    10. Pertanyaan dan jawabannya tidak mengandung perihal nomor tiket (DOA) atau invoice (INV)\n",
    "    \n",
    "    Berikan hasil dalam format berikut:\n",
    "    - **Pertanyaan**: [Tuliskan pertanyaan dari customer yang sudah dirapikan dalam bentuk kalimat tanya yang jelas]\n",
    "    - **Jawaban**: [Tuliskan jawaban dari agen yang sudah dirapikan menjadi kalimat yang SINGKAT, padat, jelas, dan mudah dipahami tanpa menyebut nama customer]\n",
    "\n",
    "    Jika percakapan tidak berisi pertanyaan atau jawaban yang jelas, berikan \"No data\".\n",
    "    Jika terdapat nama orang pada jawaban, hapus nama dan ganti/sesuaikan dengan kalimatnya saja.\n",
    "    Jika pertanyaan adalah tata cara berikan secara step by step tetapi tetap singkat dan jelas.\n",
    "\n",
    "    \"\"\"\n",
    "    try:\n",
    "        chat_log = [{'role': 'user', 'content': prompt}]\n",
    "        response = client.chat.completions.create(model=deployment_name, messages=chat_log)\n",
    "        output = response.choices[0].message.content.strip()\n",
    "\n",
    "        pertanyaan, jawaban = \"No data\", \"No data\"\n",
    "        if \"**Pertanyaan**:\" in output and \"**Jawaban**:\" in output:\n",
    "            parts = output.split(\"**Jawaban**:\")\n",
    "            pertanyaan = parts[0].replace(\"**Pertanyaan**:\", \"\").strip()\n",
    "            jawaban = parts[1].strip() if len(parts) > 1 else \"No data\"\n",
    "        \n",
    "        pertanyaan, jawaban = clean_output(pertanyaan, jawaban)\n",
    "\n",
    "        return pertanyaan, jawaban\n",
    "    except Exception as e:\n",
    "        print(f\"Error: {e}\")\n",
    "        return \"Error\", \"Error\"\n",
    "\n",
    "def reprocess_errors(df):\n",
    "    for i in df.index:\n",
    "        if df.loc[i, 'Pertanyaan'] == \"Error\" or df.loc[i, 'Jawaban'] == \"Error\":\n",
    "            try:\n",
    "                text = df.loc[i, 'Conversation']\n",
    "                if pd.isna(text) or text.strip() == \"\":\n",
    "                    df.loc[i, 'Pertanyaan'] = \"No data\"\n",
    "                    df.loc[i, 'Jawaban'] = \"No data\"\n",
    "                    continue\n",
    "                \n",
    "                pertanyaan, jawaban = extract_customer_agent(text)\n",
    "                df.loc[i, 'Pertanyaan'] = pertanyaan\n",
    "                df.loc[i, 'Jawaban'] = jawaban\n",
    "\n",
    "            except Exception as e:\n",
    "                print(f\"Reprocessing Error at row {i}: {e}\")\n",
    "                df.loc[i, 'Pertanyaan'] = \"Error\"\n",
    "                df.loc[i, 'Jawaban'] = \"Error\"\n",
    "    \n",
    "    return df"
   ]
  },
  {
   "cell_type": "code",
   "execution_count": null,
   "metadata": {},
   "outputs": [],
   "source": [
    "%%time\n",
    "df = reprocess_errors(df)\n",
    "df"
   ]
  },
  {
   "cell_type": "code",
   "execution_count": null,
   "metadata": {},
   "outputs": [],
   "source": [
    "# Filter the DataFrame for rows where 'Pertanyaan' or 'Jawaban' is \"Error\"\n",
    "error_rows = df[(df['Pertanyaan'] == \"Error\") | (df['Jawaban'] == \"Error\")]\n",
    "    \n",
    "    # Display the filtered DataFrame\n",
    "error_rows"
   ]
  },
  {
   "cell_type": "code",
   "execution_count": null,
   "metadata": {},
   "outputs": [],
   "source": [
    "df.to_csv('updated_gpt_qnatigabulanpls.csv', index=False)"
   ]
  },
  {
   "cell_type": "code",
   "execution_count": null,
   "metadata": {},
   "outputs": [],
   "source": [
    "def clean_text_pertanyaan(text):\n",
    "    # Pisahkan teks menjadi paragraf berdasarkan newline ganda dan ambil paragraf terakhir\n",
    "    paragraphs = text.strip().split('\\n\\n')\n",
    "    return paragraphs[-1].strip()\n",
    "\n",
    "# Terapkan fungsi untuk mendapatkan paragraf terakhir ke kolom 'Pertanyaan'\n",
    "df['cleaned_pertanyaan'] = df['Pertanyaan'].apply(clean_text_pertanyaan)"
   ]
  },
  {
   "cell_type": "code",
   "execution_count": null,
   "metadata": {},
   "outputs": [],
   "source": [
    "df"
   ]
  },
  {
   "cell_type": "code",
   "execution_count": null,
   "metadata": {},
   "outputs": [],
   "source": [
    "df.to_csv('updated_qna_mytensupdate.csv', index=False)"
   ]
  },
  {
   "cell_type": "code",
   "execution_count": null,
   "metadata": {},
   "outputs": [],
   "source": [
    "# Menghapus baris yang berisi \"No Data\"\n",
    "df = df[(df['cleaned_pertanyaan'] != 'No data') & (df['Jawaban'] != 'No data')]\n",
    "\n",
    "# Reset indeks\n",
    "df = df.reset_index(drop=True)\n",
    "\n",
    "# Menampilkan dataframe yang telah dibersihkan\n",
    "df"
   ]
  },
  {
   "cell_type": "code",
   "execution_count": null,
   "metadata": {},
   "outputs": [],
   "source": [
    "df.to_csv('antareseazy_baru.csv', index=False)"
   ]
  },
  {
   "cell_type": "code",
   "execution_count": null,
   "metadata": {},
   "outputs": [],
   "source": []
  }
 ],
 "metadata": {
  "kernelspec": {
   "display_name": "Python 3",
   "language": "python",
   "name": "python3"
  },
  "language_info": {
   "codemirror_mode": {
    "name": "ipython",
    "version": 3
   },
   "file_extension": ".py",
   "mimetype": "text/x-python",
   "name": "python",
   "nbconvert_exporter": "python",
   "pygments_lexer": "ipython3",
   "version": "3.12.0"
  }
 },
 "nbformat": 4,
 "nbformat_minor": 2
}
