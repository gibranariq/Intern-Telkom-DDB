{
  "cells": [
    {
      "cell_type": "markdown",
      "metadata": {
        "id": "4TVgJ-STialj"
      },
      "source": [
        "#Scrap Data"
      ]
    },
    {
      "cell_type": "code",
      "execution_count": null,
      "metadata": {
        "id": "JleUFjhZD-VR"
      },
      "outputs": [],
      "source": [
        "#Dokumentasi https://pypi.org/project/app-store-scraper/\n",
        "!pip3 install app-store-scraper"
      ]
    },
    {
      "cell_type": "code",
      "execution_count": null,
      "metadata": {
        "id": "VJUqxuKTEU5q"
      },
      "outputs": [],
      "source": [
        "# from app_store_scraper import AppStore\n",
        "# import pandas as pd\n",
        "# import numpy as np\n",
        "# import json\n",
        "\n",
        "# app = AppStore(country='id', app_name='myIndiHome', app_id = '1119407221')\n",
        "# app.review(how_many=50000)\n",
        "\n",
        "# df = pd.DataFrame(np.array(app.reviews),columns=['review'])\n",
        "# df2 = df.join(pd.DataFrame(df.pop('review').tolist()))\n",
        "# df2.head()\n",
        "# df2.to_csv('Reviews.csv')"
      ]
    },
    {
      "cell_type": "code",
      "execution_count": null,
      "metadata": {},
      "outputs": [],
      "source": [
        "from app_store_scraper import AppStore\n",
        "import pandas as pd\n",
        "import numpy as np\n",
        "import json\n",
        "from datetime import datetime\n",
        "\n",
        "# Inisialisasi scraping untuk aplikasi myIndiHome\n",
        "app = AppStore(country='id', app_name='myIndiHome', app_id='1119407221')\n",
        "\n",
        "# Mengambil ulasan (misalnya 50.000 ulasan)\n",
        "app.review(how_many=50000)\n",
        "\n",
        "# Konversi data ulasan ke DataFrame\n",
        "df = pd.DataFrame(np.array(app.reviews), columns=['review'])\n",
        "df2 = df.join(pd.DataFrame(df.pop('review').tolist()))\n",
        "\n",
        "# Filter ulasan berdasarkan rentang tanggal\n",
        "start_date = datetime.strptime(\"2024-10-08\", \"%Y-%m-%d\")\n",
        "end_date = datetime.strptime(\"2024-11-29\", \"%Y-%m-%d\")\n",
        "\n",
        "# Pastikan kolom tanggal diubah ke format datetime untuk filter\n",
        "df2['date'] = pd.to_datetime(df2['date'])\n",
        "\n",
        "# Filter data berdasarkan rentang tanggal\n",
        "filtered_df = df2[(df2['date'] >= start_date) & (df2['date'] <= end_date)]\n",
        "\n",
        "# Simpan hasil ke CSV\n",
        "filtered_df.to_csv('Reviews.csv', index=False)\n",
        "\n",
        "print(\"Scraping dan filter selesai. Data disimpan di 'Reviews.csv'\")"
      ]
    },
    {
      "cell_type": "code",
      "execution_count": null,
      "metadata": {
        "id": "Fd0uie_jXwLW"
      },
      "outputs": [],
      "source": [
        "import pandas as pd"
      ]
    },
    {
      "cell_type": "code",
      "execution_count": null,
      "metadata": {
        "colab": {
          "base_uri": "https://localhost:8080/",
          "height": 206
        },
        "id": "pdIimDbb2XKp",
        "outputId": "447fa36a-0fe4-4512-a81c-f367743f77a0"
      },
      "outputs": [],
      "source": [
        "df = pd.read_csv('Reviews.csv')\n",
        "df.head()"
      ]
    },
    {
      "cell_type": "code",
      "execution_count": null,
      "metadata": {
        "colab": {
          "base_uri": "https://localhost:8080/",
          "height": 293
        },
        "id": "yaTyUNlr2n-x",
        "outputId": "002898c0-2986-43c3-f396-48fd830428d1"
      },
      "outputs": [],
      "source": [
        "# Function to extract 'id', 'modified' and 'body' from 'developerResponse'\n",
        "def extract_developer_response(response):\n",
        "    if pd.isna(response):\n",
        "        return pd.Series([None, None])\n",
        "    else:\n",
        "        try:\n",
        "            response_dict = eval(response)\n",
        "            return pd.Series([response_dict.get('id'), response_dict.get('body'),response_dict.get('modified')])\n",
        "        except:\n",
        "            return pd.Series([None, None])\n",
        "\n",
        "# Apply the function and create new columns 'response_id' and 'response_body' and 'response_modified'\n",
        "df[['response_id', 'response_body','response_modified']] = df['developerResponse'].apply(extract_developer_response)\n",
        "\n",
        "# Drop the original 'developerResponse' column\n",
        "df_cleaned = df.drop(columns=['developerResponse'])\n",
        "\n",
        "# Display the cleaned dataframe\n",
        "df_cleaned.head()\n"
      ]
    },
    {
      "cell_type": "code",
      "execution_count": null,
      "metadata": {
        "id": "4HtJ5I194kU-"
      },
      "outputs": [],
      "source": [
        "df_cleaned['response_modified'] = pd.to_datetime(df_cleaned['response_modified'], format='%Y-%m-%dT%H:%M:%SZ', errors='coerce')"
      ]
    },
    {
      "cell_type": "code",
      "execution_count": null,
      "metadata": {
        "id": "ZD0iTiKjXQJu"
      },
      "outputs": [],
      "source": [
        "df_cleaned['response_modified'] = df_cleaned['response_modified'].dt.strftime('%d-%m-%Y %H:%M:%S')"
      ]
    },
    {
      "cell_type": "code",
      "execution_count": null,
      "metadata": {
        "id": "-hCebAiK4zqC"
      },
      "outputs": [],
      "source": [
        "df_cleaned['date'] = pd.to_datetime(df_cleaned['date'], errors='coerce')\n",
        "df_cleaned['date'] = df_cleaned['date'].dt.strftime('%d-%m-%Y %H:%M:%S')"
      ]
    },
    {
      "cell_type": "code",
      "execution_count": null,
      "metadata": {
        "colab": {
          "base_uri": "https://localhost:8080/",
          "height": 597
        },
        "id": "omOkWzqv4q1C",
        "outputId": "40ba2688-2c9f-4be5-d43a-be86e534a8ca"
      },
      "outputs": [],
      "source": [
        "df_cleaned"
      ]
    },
    {
      "cell_type": "code",
      "execution_count": null,
      "metadata": {
        "id": "8pXA4xX85ulz"
      },
      "outputs": [],
      "source": [
        "df_cleaned['response_id'] = df_cleaned['response_id'].fillna(0).astype(int)\n",
        "\n",
        "# Mengubah nilai 0 kembali menjadi string kosong\n",
        "df_cleaned['response_id'] = df_cleaned['response_id'].replace(0, '')"
      ]
    },
    {
      "cell_type": "code",
      "execution_count": null,
      "metadata": {
        "colab": {
          "base_uri": "https://localhost:8080/",
          "height": 597
        },
        "id": "39bOTtW66Mxr",
        "outputId": "322ad854-3adb-472c-e8c7-2ee5dd05aa16"
      },
      "outputs": [],
      "source": [
        "df_cleaned"
      ]
    },
    {
      "cell_type": "code",
      "execution_count": null,
      "metadata": {
        "colab": {
          "base_uri": "https://localhost:8080/",
          "height": 293
        },
        "id": "S5GWoLxnZBfH",
        "outputId": "4e37c9a8-118b-4878-81fe-4fdc602b039e"
      },
      "outputs": [],
      "source": [
        "# prompt: split the date and timestamp\n",
        "\n",
        "# Split the 'date' column into 'date' and 'time' columns\n",
        "df_cleaned[['date', 'timestamp']] = df_cleaned['date'].str.split(' ', expand=True)\n",
        "df_cleaned.head()\n"
      ]
    },
    {
      "cell_type": "code",
      "execution_count": null,
      "metadata": {
        "colab": {
          "base_uri": "https://localhost:8080/",
          "height": 293
        },
        "id": "dUG897eKZQRP",
        "outputId": "2ad0cb24-290c-4b43-eaa2-54cf3b3bb6d7"
      },
      "outputs": [],
      "source": [
        "# prompt: move the timestamp to after date\n",
        "\n",
        "# Rearrange columns\n",
        "df_cleaned = df_cleaned[['date', 'timestamp','userName','title', 'review','rating','isEdited', 'response_id', 'response_body', 'response_modified']]\n",
        "df_cleaned.head()\n"
      ]
    },
    {
      "cell_type": "markdown",
      "metadata": {
        "id": "UXpiJeNYiggT"
      },
      "source": [
        "# Filter date start 01-08-2024 untill 12-9-2024"
      ]
    },
    {
      "cell_type": "code",
      "execution_count": null,
      "metadata": {
        "colab": {
          "base_uri": "https://localhost:8080/",
          "height": 597
        },
        "id": "0FebsILvaFDj",
        "outputId": "f5cacc90-b1f8-4395-eb54-5d8c5568ff82"
      },
      "outputs": [],
      "source": [
        "# prompt: filter date start 01-08-2024 untill 12-9-2024\n",
        "\n",
        "import pandas as pd\n",
        "# Convert 'date' column to datetime objects\n",
        "df_cleaned['date'] = pd.to_datetime(df_cleaned['date'], format='%d-%m-%Y', errors='coerce')\n",
        "\n",
        "# Filter the dataframe based on the date range\n",
        "filtered_df = df_cleaned[\n",
        "    (df_cleaned['date'] >= pd.to_datetime('08-10-2024', format='%d-%m-%Y')) &\n",
        "    (df_cleaned['date'] <= pd.to_datetime('29-11-2024', format='%d-%m-%Y'))\n",
        "]\n",
        "\n",
        "# Display the filtered dataframe\n",
        "filtered_df = filtered_df.reset_index(drop=True)\n",
        "filtered_df\n"
      ]
    },
    {
      "cell_type": "markdown",
      "metadata": {
        "id": "cKLVCVfAit69"
      },
      "source": [
        "#write to sheet"
      ]
    },
    {
      "cell_type": "code",
      "execution_count": null,
      "metadata": {
        "id": "OmwiIfXchKVV"
      },
      "outputs": [],
      "source": [
        "from oauth2client.service_account import ServiceAccountCredentials\n",
        "import gspread as gs\n",
        "from gspread_dataframe import set_with_dataframe"
      ]
    },
    {
      "cell_type": "code",
      "execution_count": null,
      "metadata": {
        "colab": {
          "base_uri": "https://localhost:8080/"
        },
        "id": "NqVdHUrYhtcY",
        "outputId": "4ad6fea6-843a-457c-c659-82e9453a972f"
      },
      "outputs": [],
      "source": [
        "# prompt: mount drive\n",
        "\n",
        "from google.colab import drive\n",
        "drive.mount('/content/drive')\n"
      ]
    },
    {
      "cell_type": "code",
      "execution_count": null,
      "metadata": {
        "id": "WpEudwfXhNHX"
      },
      "outputs": [],
      "source": [
        "scope = ['https://spreadsheets.google.com/feeds','https://www.googleapis.com/auth/drive']\n",
        "credentials = ServiceAccountCredentials.from_json_keyfile_name('/content/drive/MyDrive/Intern Data Telkom/Daniel/writesheet/nilproject-424807-3a1a96640896.json', scope)\n",
        "gc = gs.authorize(credentials)"
      ]
    },
    {
      "cell_type": "code",
      "execution_count": null,
      "metadata": {
        "id": "wwDJpS1phOin"
      },
      "outputs": [],
      "source": [
        "ws = gc.open(f'User Feedback App My IndiHome').worksheet(f'App Store')\n",
        "ws.clear()\n",
        "set_with_dataframe(ws, filtered_df)"
      ]
    }
  ],
  "metadata": {
    "colab": {
      "provenance": []
    },
    "kernelspec": {
      "display_name": "Python 3",
      "name": "python3"
    },
    "language_info": {
      "codemirror_mode": {
        "name": "ipython",
        "version": 3
      },
      "file_extension": ".py",
      "mimetype": "text/x-python",
      "name": "python",
      "nbconvert_exporter": "python",
      "pygments_lexer": "ipython3",
      "version": "3.12.0"
    }
  },
  "nbformat": 4,
  "nbformat_minor": 0
}
